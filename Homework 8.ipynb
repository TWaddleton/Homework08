{
 "cells": [
  {
   "cell_type": "markdown",
   "metadata": {},
   "source": [
    "# Homework 8: Magnetization, Energy in the Ising Model\n",
    "\n",
    "Physics 177, Spring 2017 (Prof. Tanedo)  \n",
    "Due: Friday, June 16    \n",
    "\n",
    "Thomas Waddleton"
   ]
  },
  {
   "cell_type": "markdown",
   "metadata": {},
   "source": [
    "# Problem 0\n",
    "\n",
    "Please be sure to fill out:\n",
    "1. The course survey (e-mailed directly to you; e-mail Prof. Tanedo if you have not received this!)\n",
    "2. iEval course evaluation (http://ieval.ucr.edu)\n",
    "3. Sign up for a \"final interview\": https://doodle.com/poll/xyb7dgcupq9gwaqm"
   ]
  },
  {
   "cell_type": "markdown",
   "metadata": {},
   "source": [
    "# Problem 1"
   ]
  },
  {
   "cell_type": "markdown",
   "metadata": {
    "collapsed": true
   },
   "source": [
    "Code the Ising model to study the phase transition at $T_c\\approx 2.27$ (in units where $J = k_B = 1$). Use the Metropolis algorithm for Markov Chain Monte Carlo, as we set up in Lecture 18: https://github.com/Physics177-2017/Lec18-Ising-Model/blob/master/Lec18-IsingModel.ipynb\n",
    "\n",
    "**Make the following plots:**\n",
    "1. Magnetization as a function of temperature\n",
    "2. Energy as a function of temperature\n",
    "\n",
    "You may define magnetization as the total spin of the system (sum of the spins of each node). You may define the energy as the sum of $\\Delta E_i$ for each spin $i$. Recall that \n",
    "\n",
    "$$\\Delta E_i = -\\sum_{j} s_is_j$$\n",
    "\n",
    "(Note: actually, you should define $E = \\sum_i \\Delta E_i/4$, but we don't care about the overall pre-factors, we just want to see the qualitative shapes of the plots.)\n",
    "\n",
    "**Guidelines**\n",
    "You should be able to get reasonable results for:\n",
    "* A $20\\times 20$ array.\n",
    "* Sampling 1000 temperature points between $T=1$ and $T=4$\n",
    "* Allowing 2000 Monte Carlo steps to draw a sample.\n",
    "\n",
    "*Pro-tip:* One way to improve your calculations is to let your Monte Carlo \"equilibrate\" before recording data. In other words, your Markov Chain algorithm should be:\n",
    "\n",
    "1. Pick a random configuration\n",
    "2. Run for 2000 steps (without recording data)\n",
    "3. Perform your Markov Chain algorithm as usual, using the configuration at the end of step 2 as your initial configuration.\n",
    "\n",
    "\n",
    "Code this up on your own, you may use the code from Lecture 18 as a starting point. \n",
    "\n",
    "The *answers* are available in a notebook written by Rajesh Singh:\n",
    "http://rajeshrinet.github.io/blog/2014/ising-model/\n",
    "... you may use that notebook (in particular, the plots) as a guideline for what your code should produce. "
   ]
  },
  {
   "cell_type": "code",
   "execution_count": 115,
   "metadata": {
    "collapsed": false
   },
   "outputs": [],
   "source": [
    "import numpy as np\n",
    "import matplotlib.pyplot as plt\n",
    "from random import *\n",
    "\n",
    "nt = 100\n",
    "N_trials = 100\n",
    "N = 20\n",
    "spinGrid = np.zeros([N,N], int)\n",
    "temps = np.linspace(1,4,nt)\n",
    "\n",
    "def gridPop(oldGrid):\n",
    "    newGrid = oldGrid\n",
    "    \n",
    "    for i in range(0,N):\n",
    "        for j in range(0,N):\n",
    "            newGrid[i,j] = 2*randint(0,1) - 1\n",
    "        \n",
    "    return newGrid\n",
    "\n",
    "def gridEnergy(spins):\n",
    "    energy = 0\n",
    "    \n",
    "    for i in range(0,N):\n",
    "        for j in range(0,N):\n",
    "            energy += (spins[i,j]*spins[(i+1)%N,j] + spins[i,j]*spins[(i-1)%N,j] + spins[i,j]*spins[i,(j+1)%N] + spins[i,j]*spins[i,(j-1)%N])\n",
    "    \n",
    "    return -energy"
   ]
  },
  {
   "cell_type": "code",
   "execution_count": 113,
   "metadata": {
    "collapsed": false
   },
   "outputs": [],
   "source": [
    "def spinChange(spinGrid, i, j, beta):\n",
    "    spin = spinGrid[i,j]\n",
    "    spin_flip = -spin\n",
    "    newGrid = np.zeros([N,N], int)\n",
    "    \n",
    "    for h in range(0,N):\n",
    "        for k in range(0,N):\n",
    "            if (h == i and k == j):\n",
    "                newGrid[h,k] = -spinGrid[i,j]\n",
    "            else:\n",
    "                newGrid[h,k] = spinGrid[i,j]\n",
    "    \n",
    "    deltaE = gridEnergy(spinGrid) - gridEnergy(newGrid)\n",
    "    \n",
    "    if(deltaE < 0):\n",
    "        return -spin\n",
    "    else:\n",
    "        if( random() < np.exp(beta*deltaE)):\n",
    "            return -spin\n",
    "        else:\n",
    "            return spin\n",
    "        \n",
    "def gridChange(grid, beta):\n",
    "    i = randint(0,N-1)\n",
    "    j = randint(0,N-1)\n",
    "    \n",
    "    grid[i,j] = spinChange(grid, i, j, beta)\n",
    "    return grid\n",
    "    \n",
    "def magnet(spinGrid):\n",
    "    mag = np.sum(spinGrid)\n",
    "    return mag"
   ]
  },
  {
   "cell_type": "code",
   "execution_count": 116,
   "metadata": {
    "collapsed": false
   },
   "outputs": [
    {
     "name": "stderr",
     "output_type": "stream",
     "text": [
      "C:\\Users\\Tommy\\Anaconda3\\lib\\site-packages\\ipykernel\\__main__.py:18: RuntimeWarning: overflow encountered in exp\n"
     ]
    }
   ],
   "source": [
    "grid = gridPop(spinGrid)\n",
    "totalEnergy = 0\n",
    "totalMag = 0\n",
    "Magnetization = np.zeros(nt)\n",
    "Energy = np.zeros(nt)\n",
    "\n",
    "for m in range(len(temps)):\n",
    "    for n in range(N_trials):\n",
    "        grid = gridChange(grid, 1/temps[m])\n",
    "    for n in range(N_trials):\n",
    "        grid = gridChange(grid, 1/temps[m])\n",
    "        mag = magnet(grid)\n",
    "        nrg = gridEnergy(grid)\n",
    "        totalEnergy += nrg/4\n",
    "        totalMag += mag\n",
    "        \n",
    "    Magnetization[m] = totalMag/(N_trials*N**2)\n",
    "    Energy[m] = totalEnergy/(N_trials*N**2)"
   ]
  },
  {
   "cell_type": "code",
   "execution_count": 117,
   "metadata": {
    "collapsed": false
   },
   "outputs": [
    {
     "data": {
      "image/png": "[encoded data removed]",
      "text/plain": [
       "<matplotlib.figure.Figure at 0x26f3f095518>"
      ]
     },
     "metadata": {},
     "output_type": "display_data"
    },
    {
     "data": {
      "image/png": "[encoded data removed]",
      "text/plain": [
       "<matplotlib.figure.Figure at 0x26f3efff198>"
      ]
     },
     "metadata": {},
     "output_type": "display_data"
    }
   ],
   "source": [
    "plt.plot(temps, Magnetization, 'o', label=\"Magnetization vs. Temperature\")\n",
    "plt.xlabel(\"Temperature\")\n",
    "plt.ylabel(\"Magnetization\")\n",
    "plt.legend()\n",
    "plt.show()\n",
    "\n",
    "plt.plot(temps, Energy, 'o', label=\"Energy vs. Temperature\")\n",
    "plt.xlabel(\"Temperature\")\n",
    "plt.ylabel(\"Energy\")\n",
    "plt.legend()\n",
    "plt.show()"
   ]
  },
  {
   "cell_type": "code",
   "execution_count": null,
   "metadata": {
    "collapsed": true
   },
   "outputs": [],
   "source": []
  }
 ],
 "metadata": {
  "kernelspec": {
   "display_name": "Python 3",
   "language": "python",
   "name": "python3"
  },
  "language_info": {
   "codemirror_mode": {
    "name": "ipython",
    "version": 3
   },
   "file_extension": ".py",
   "mimetype": "text/x-python",
   "name": "python",
   "nbconvert_exporter": "python",
   "pygments_lexer": "ipython3",
   "version": "3.6.0"
  }
 },
 "nbformat": 4,
 "nbformat_minor": 2
}
